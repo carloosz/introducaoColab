{
  "nbformat": 4,
  "nbformat_minor": 0,
  "metadata": {
    "colab": {
      "provenance": [],
      "authorship_tag": "ABX9TyO3ERJYC9bOo9nhL8P3LBKy",
      "include_colab_link": true
    },
    "kernelspec": {
      "name": "python3",
      "display_name": "Python 3"
    },
    "language_info": {
      "name": "python"
    }
  },
  "cells": [
    {
      "cell_type": "markdown",
      "metadata": {
        "id": "view-in-github",
        "colab_type": "text"
      },
      "source": [
        "<a href=\"https://colab.research.google.com/github/carloosz/introducaoColab/blob/main/IntroducaoColab.ipynb\" target=\"_parent\"><img src=\"https://colab.research.google.com/assets/colab-badge.svg\" alt=\"Open In Colab\"/></a>"
      ]
    },
    {
      "cell_type": "markdown",
      "source": [
        "#2. Explorando o Python com o ChatGPT\n",
        "\n",
        "\n",
        "\n",
        "\n",
        "\n",
        "\n",
        "\n",
        "\n"
      ],
      "metadata": {
        "id": "Iin0zoRknejx"
      }
    },
    {
      "cell_type": "markdown",
      "source": [
        "\n",
        "###2.1  Primeiros Comandos no Python:\n",
        "\n"
      ],
      "metadata": {
        "id": "bwv8vAstnxAL"
      }
    },
    {
      "cell_type": "code",
      "execution_count": 3,
      "metadata": {
        "colab": {
          "base_uri": "https://localhost:8080/"
        },
        "id": "GggpBJlVnaKK",
        "outputId": "de1c5f17-f976-46eb-9a90-3f4aba608cdf"
      },
      "outputs": [
        {
          "output_type": "stream",
          "name": "stdout",
          "text": [
            "Hello World\n"
          ]
        }
      ],
      "source": [
        "print(\"Hello World\")"
      ]
    },
    {
      "cell_type": "markdown",
      "source": [
        "###2.2   Consulta no chat GPT\n"
      ],
      "metadata": {
        "id": "DNGCFgnCoZ8m"
      }
    },
    {
      "cell_type": "markdown",
      "source": [
        "* pergunta\n",
        "\n",
        "chat, estou começando com a linguagem python, eu gostaria de saber o que esse codigo faz '`print(\"Hello World\")`', e porque ele é considerado o primeiro passo na programação.\n",
        "\n",
        "* resposta\n",
        "\n",
        "O código `print(\"Hello World\")` exibe o texto _\"Hello World\"_ na tela. Vamos entender cada parte dele:\n",
        "\n",
        "`print`: É uma função embutida do Python que envia a saída (texto ou dados) para o console.\n",
        "_\"Hello World\"_: É uma string, ou seja, uma sequência de caracteres entre aspas. Neste caso, é o texto que será exibido.\n",
        "Quando você executa o código, o resultado será:\n",
        "\n",
        "Hello World\n",
        "\n",
        "Esse código é considerado o \"primeiro passo\" na programação porque ele é simples e direto, permitindo que iniciantes testem rapidamente se o ambiente de desenvolvimento está configurado corretamente. Além disso, ele introduz conceitos básicos, como o uso de funções `(print)` e strings _(\"Hello World\")_, que são fundamentais em qualquer linguagem de programação.\n",
        "\n",
        "Muitos tutoriais e cursos de programação começam com o clássico _\"Hello World\"_ justamente por ser uma forma leve e motivadora de dar os primeiros passos na codificação.\n",
        "\n",
        "\n"
      ],
      "metadata": {
        "id": "ewFDLqHOqgV3"
      }
    },
    {
      "cell_type": "markdown",
      "source": [
        "###2.3   Variáveis\n"
      ],
      "metadata": {
        "id": "VhCQ6kO8r17f"
      }
    },
    {
      "cell_type": "markdown",
      "source": [
        "#####perguntei ao chat do que se tratavam as variáveis no python, ele me deu uns exemplos que implementarei a seguir"
      ],
      "metadata": {
        "id": "CqFp_zg_sPio"
      }
    },
    {
      "cell_type": "code",
      "source": [
        "nome = \"joão\"\n",
        "idade = 21\n",
        "altura = 1.75\n",
        "\n",
        "print(nome,idade,altura)"
      ],
      "metadata": {
        "colab": {
          "base_uri": "https://localhost:8080/"
        },
        "id": "s4_XcoWMseTZ",
        "outputId": "ac542f72-15c7-43d0-9201-f87943122df3"
      },
      "execution_count": 4,
      "outputs": [
        {
          "output_type": "stream",
          "name": "stdout",
          "text": [
            "joão 21 1.75\n"
          ]
        }
      ]
    },
    {
      "cell_type": "markdown",
      "source": [
        "###2.4   Operações Aritiméticas"
      ],
      "metadata": {
        "id": "bRkybeTOs_i-"
      }
    },
    {
      "cell_type": "code",
      "source": [
        "a = 10\n",
        "b = 5\n",
        "\n",
        "soma = a+b\n",
        "subtracao = a-b\n",
        "multiplicacao = a*b\n",
        "divisao = a/b\n",
        "\n",
        "print(soma, subtracao, multiplicacao, divisao)\n"
      ],
      "metadata": {
        "colab": {
          "base_uri": "https://localhost:8080/"
        },
        "id": "FXsS-AVZtXnR",
        "outputId": "4e0d74c3-0307-47d2-bc32-28b206b89b47"
      },
      "execution_count": 6,
      "outputs": [
        {
          "output_type": "stream",
          "name": "stdout",
          "text": [
            "15 5 50 2.0\n"
          ]
        }
      ]
    },
    {
      "cell_type": "markdown",
      "source": [
        "#####aqui temos um script que atribui um valor numérico pra duas variáveis, executa as 4 principais operações matemáticas e printa o resultado."
      ],
      "metadata": {
        "id": "oH1EnqSpt1Xg"
      }
    },
    {
      "cell_type": "markdown",
      "source": [
        "#3. Desafios Práticos"
      ],
      "metadata": {
        "id": "4Z9s435VuvI0"
      }
    },
    {
      "cell_type": "markdown",
      "source": [
        "##3.1   Calculadora Básica"
      ],
      "metadata": {
        "id": "4yGxgOYFwYq-"
      }
    },
    {
      "cell_type": "markdown",
      "source": [
        "##### Instrução ao chat GPT :\n",
        "\n",
        "me dê um script basico em python, que peça ao usuario que informe dois numeros, e uma operação (soma,subtracao,multiplicacao,divisao) , realize a operação e exiba o resultado."
      ],
      "metadata": {
        "id": "5p2CQczQva3d"
      }
    },
    {
      "cell_type": "code",
      "source": [
        "# Solicita ao usuário que insira dois números\n",
        "numero1 = float(input(\"Digite o primeiro número: \"))\n",
        "numero2 = float(input(\"Digite o segundo número: \"))\n",
        "\n",
        "# Solicita ao usuário que escolha uma operação\n",
        "operacao = input(\"Escolha a operação (+ para soma, - para subtração, * para multiplicação, / para divisão): \")\n",
        "\n",
        "# Realiza a operação com base na escolha do usuário\n",
        "if operacao == \"+\":\n",
        "    resultado = numero1 + numero2\n",
        "    print(f\"O resultado da soma é: {resultado}\")\n",
        "elif operacao == \"-\":\n",
        "    resultado = numero1 - numero2\n",
        "    print(f\"O resultado da subtração é: {resultado}\")\n",
        "elif operacao == \"*\":\n",
        "    resultado = numero1 * numero2\n",
        "    print(f\"O resultado da multiplicação é: {resultado}\")\n",
        "elif operacao == \"/\":\n",
        "    # Verifica se o segundo número não é zero antes de dividir\n",
        "    if numero2 != 0:\n",
        "        resultado = numero1 / numero2\n",
        "        print(f\"O resultado da divisão é: {resultado}\")\n",
        "    else:\n",
        "        print(\"Erro: Divisão por zero não é permitida.\")\n",
        "else:\n",
        "    print(\"Operação inválida. Por favor, escolha +, -, * ou /.\")\n"
      ],
      "metadata": {
        "colab": {
          "base_uri": "https://localhost:8080/"
        },
        "id": "mglwCuuwvqc5",
        "outputId": "3c6553c9-2ab7-4370-98c2-108fb8ae9388"
      },
      "execution_count": 9,
      "outputs": [
        {
          "output_type": "stream",
          "name": "stdout",
          "text": [
            "Digite o primeiro número: 4\n",
            "Digite o segundo número: 0\n",
            "Escolha a operação (+ para soma, - para subtração, * para multiplicação, / para divisão): /\n",
            "Erro: Divisão por zero não é permitida.\n"
          ]
        }
      ]
    },
    {
      "cell_type": "markdown",
      "source": [
        "######Uma coisa que eu achei interessante, é que ele colocou varios prints, com uma mensagem diferente pra cada operação (pode nao ser o ideal pelo numero de elifs, mas por hora está ótimo)"
      ],
      "metadata": {
        "id": "utpCumKwv62W"
      }
    },
    {
      "cell_type": "code",
      "source": [],
      "metadata": {
        "id": "e2NHHMSTveoF"
      },
      "execution_count": null,
      "outputs": []
    },
    {
      "cell_type": "markdown",
      "source": [
        "##3.2   Conversor de Temperatura"
      ],
      "metadata": {
        "id": "hGdZX_WexIv1"
      }
    },
    {
      "cell_type": "markdown",
      "source": [
        "#####Instrução ao chat GPT :\n",
        "\n",
        "agora eu preciso de um script em python, que converta celsius para F, e vice versa\n",
        "\n"
      ],
      "metadata": {
        "id": "FIe9QG6TxR2N"
      }
    },
    {
      "cell_type": "code",
      "source": [
        "def celsius_para_fahrenheit(celsius):\n",
        "    return (celsius * 9/5) + 32\n",
        "\n",
        "def fahrenheit_para_celsius(fahrenheit):\n",
        "    return (fahrenheit - 32) * 5/9\n",
        "\n",
        "print(\"Conversor de Temperaturas\")\n",
        "print(\"Escolha uma opção:\")\n",
        "print(\"1. Converter de Celsius para Fahrenheit\")\n",
        "print(\"2. Converter de Fahrenheit para Celsius\")\n",
        "\n",
        "opcao = input(\"Digite 1 ou 2: \")\n",
        "\n",
        "if opcao == \"1\":\n",
        "    celsius = float(input(\"Digite a temperatura em Celsius: \"))\n",
        "    fahrenheit = celsius_para_fahrenheit(celsius)\n",
        "    print(f\"{celsius}°C equivale a {fahrenheit}°F\")\n",
        "elif opcao == \"2\":\n",
        "    fahrenheit = float(input(\"Digite a temperatura em Fahrenheit: \"))\n",
        "    celsius = fahrenheit_para_celsius(fahrenheit)\n",
        "    print(f\"{fahrenheit}°F equivale a {celsius}°C\")\n",
        "else:\n",
        "    print(\"Opção inválida. Por favor, escolha 1 ou 2.\")\n"
      ],
      "metadata": {
        "colab": {
          "base_uri": "https://localhost:8080/"
        },
        "id": "YzwV6X6ZxeHd",
        "outputId": "e12af73b-bdae-46a5-e985-3ed781ba1c71"
      },
      "execution_count": 11,
      "outputs": [
        {
          "output_type": "stream",
          "name": "stdout",
          "text": [
            "Conversor de Temperaturas\n",
            "Escolha uma opção:\n",
            "1. Converter de Celsius para Fahrenheit\n",
            "2. Converter de Fahrenheit para Celsius\n",
            "Digite 1 ou 2: 2\n",
            "Digite a temperatura em Fahrenheit: 210\n",
            "210.0°F equivale a 98.88888888888889°C\n"
          ]
        }
      ]
    },
    {
      "cell_type": "markdown",
      "source": [
        "######dependendo do resultado, pode retornar com muitas casas decimais tipo '98.8888888888888889°C' , poxa! , será culpa do chat que não tratou o retorno, ou minha que não ordenei?"
      ],
      "metadata": {
        "id": "mXJ9VXgHx1w2"
      }
    },
    {
      "cell_type": "markdown",
      "source": [
        "##3.3   Contador de Palavras"
      ],
      "metadata": {
        "id": "ycBF0CoBy0ZP"
      }
    },
    {
      "cell_type": "markdown",
      "source": [
        "######Instrução ao GPT:\n",
        "\n",
        "######agora quero um script em python que peça para o usuario inserir uma frase, conte e exiba o numero de palavras na frase"
      ],
      "metadata": {
        "id": "giWoAjDYzTOW"
      }
    },
    {
      "cell_type": "code",
      "source": [
        "# Solicita ao usuário que insira uma frase\n",
        "frase = input(\"Digite uma frase: \")\n",
        "\n",
        "# Usa a função split() para dividir a frase em uma lista de palavras\n",
        "palavras = frase.split()\n",
        "\n",
        "# Conta o número de palavras na lista\n",
        "numero_de_palavras = len(palavras)\n",
        "\n",
        "# Exibe o resultado\n",
        "print(f\"A frase contém {numero_de_palavras} palavras.\")\n"
      ],
      "metadata": {
        "colab": {
          "base_uri": "https://localhost:8080/"
        },
        "id": "p-eIXdwe0Egn",
        "outputId": "7b7fb40d-cd08-4bf5-b53a-0dde18796b8c"
      },
      "execution_count": 12,
      "outputs": [
        {
          "output_type": "stream",
          "name": "stdout",
          "text": [
            "Digite uma frase: eu tenteeeeeei nao ser mlk com vc eu tenteeeei\n",
            "A frase contém 9 palavras.\n"
          ]
        }
      ]
    },
    {
      "cell_type": "markdown",
      "source": [
        "######Pedi umas dicas pra ele sobre strings, ele mandou várias, mas listarei aqui apenas as que julguei mais interessantes\n",
        "\n",
        "#####*2.  _Repetir Strings:_*\n",
        "\n",
        "#####_Você pode repetir uma string usando o operador *._\n",
        "\n",
        "```\n",
        "risada = \"ha\" * 3\n",
        "print(risada)  # Resultado: hahaha\n",
        "```\n",
        "\n",
        "#####*3. _Acessar Caracteres por Índice:_*\n",
        "\n",
        "_As strings são como listas de caracteres, então você pode acessar um caractere específico usando o índice._\n",
        "\n",
        "```\n",
        "palavra = \"Python\"\n",
        "print(palavra[0])  # Resultado: P\n",
        "print(palavra[-1])  # Resultado: n (último caractere)\n",
        "```\n",
        "\n",
        "#####*4. _Fatiamento de Strings (Slicing):_*\n",
        "\n",
        "_Você pode pegar partes específicas de uma string._\n",
        "\n",
        "```\n",
        "palavra = \"Python\"\n",
        "print(palavra[0:3])  # Resultado: Pyt\n",
        "print(palavra[2:])   # Resultado: thon\n",
        "print(palavra[:4])   # Resultado: Pyth\n",
        "```\n",
        "\n",
        "####sim, de 10 dicas que ele mandou, as que eu mais gostei foram uma sequencia (2,3 e 4), e isso não foi combinado."
      ],
      "metadata": {
        "id": "P3N-rXEb0jEP"
      }
    },
    {
      "cell_type": "markdown",
      "source": [
        "##3.4  Aplicativo Mais Complexo"
      ],
      "metadata": {
        "id": "hex6qRLs2-_b"
      }
    },
    {
      "cell_type": "markdown",
      "source": [
        "######Aaaaaa eu nem acredito que isso deu certoo, segue a documentação:"
      ],
      "metadata": {
        "id": "vQ4R7YDG6YtU"
      }
    },
    {
      "cell_type": "markdown",
      "source": [
        "\n",
        "\n",
        "###Documentação da Aplicação de Contador de Cliques\n",
        "\n",
        "* Visão Geral\n",
        "\n",
        "Esta aplicação web consiste em um contador de cliques simples. O objetivo do usuário é clicar o máximo de vezes possível em um botão dentro de um período de 10 segundos. Após o término do tempo, o número total de cliques é exibido na tela.\n",
        "\n",
        "A aplicação é desenvolvida usando HTML, CSS e JavaScript, com o código totalmente integrado em um único arquivo HTML.\n",
        "\n",
        "* Estrutura de Arquivos\n",
        "A aplicação é composta por um único arquivo:\n",
        "\n",
        "index.html: Contém todo o código HTML, CSS e JavaScript necessário para a aplicação.\n",
        "\n",
        "###Código-Fonte\n",
        "####1. HTML\n",
        "O código HTML define a estrutura da aplicação:\n",
        "\n",
        "```\n",
        "<!DOCTYPE html>\n",
        "<html lang=\"pt-BR\">\n",
        "<head>\n",
        "    <meta charset=\"UTF-8\">\n",
        "    <meta name=\"viewport\" content=\"width=device-width, initial-scale=1.0\">\n",
        "    <title>Contador de Cliques</title>\n",
        "</head>\n",
        "<body>\n",
        "    <div class=\"container\">\n",
        "        <h1>Contador de Cliques</h1>\n",
        "        <p id=\"instrucoes\">Clique no botão abaixo o máximo de vezes que conseguir em 10 segundos.</p>\n",
        "        <button id=\"botaoClique\" disabled>Começar</button>\n",
        "        <p id=\"contador\">0 Cliques</p>\n",
        "        <button id=\"botaoIniciar\">Iniciar</button>\n",
        "    </div>\n",
        "</body>\n",
        "</html>\n",
        "```\n",
        "\n",
        "####2. CSS\n",
        "O código CSS embutido é responsável pelo estilo e layout da aplicação:\n",
        "```\n",
        "<style>\n",
        "    body {\n",
        "        font-family: Arial, sans-serif;\n",
        "        display: flex;\n",
        "        justify-content: center;\n",
        "        align-items: center;\n",
        "        height: 100vh;\n",
        "        margin: 0;\n",
        "        background-color: #f0f0f0;\n",
        "    }\n",
        "\n",
        "    .container {\n",
        "        text-align: center;\n",
        "        background-color: #ffffff;\n",
        "        padding: 20px;\n",
        "        border-radius: 10px;\n",
        "        box-shadow: 0px 0px 10px rgba(0, 0, 0, 0.1);\n",
        "    }\n",
        "\n",
        "    h1 {\n",
        "        font-size: 24px;\n",
        "        margin-bottom: 10px;\n",
        "    }\n",
        "\n",
        "    p {\n",
        "        font-size: 18px;\n",
        "        margin-bottom: 20px;\n",
        "    }\n",
        "\n",
        "    #botaoClique, #botaoIniciar {\n",
        "        padding: 10px 20px;\n",
        "        font-size: 18px;\n",
        "        cursor: pointer;\n",
        "        border: none;\n",
        "        border-radius: 5px;\n",
        "        background-color: #007bff;\n",
        "        color: white;\n",
        "        margin: 10px;\n",
        "    }\n",
        "\n",
        "    #botaoClique:disabled {\n",
        "        background-color: #cccccc;\n",
        "    }\n",
        "\n",
        "    #contador {\n",
        "        font-size: 22px;\n",
        "        font-weight: bold;\n",
        "        margin-top: 20px;\n",
        "    }\n",
        "</style>\n",
        "\n",
        "```\n",
        "####3. JavaScript\n",
        "O código JavaScript embutido gerencia a lógica da aplicação:\n",
        "\n",
        "```\n",
        "<script>\n",
        "    const botaoClique = document.getElementById(\"botaoClique\");\n",
        "    const contadorTexto = document.getElementById(\"contador\");\n",
        "    const botaoIniciar = document.getElementById(\"botaoIniciar\");\n",
        "    let contador = 0;\n",
        "    let tempoRestante = 10;\n",
        "    let jogoEmAndamento = false;\n",
        "\n",
        "    function iniciarJogo() {\n",
        "        if (jogoEmAndamento) return;\n",
        "\n",
        "        contador = 0;\n",
        "        tempoRestante = 10;\n",
        "        jogoEmAndamento = true;\n",
        "        contadorTexto.textContent = `${contador} Cliques`;\n",
        "        botaoClique.disabled = false;\n",
        "        botaoIniciar.disabled = true;\n",
        "        botaoClique.textContent = \"Clique!\";\n",
        "\n",
        "        const intervalo = setInterval(() => {\n",
        "            tempoRestante--;\n",
        "            if (tempoRestante <= 0) {\n",
        "                clearInterval(intervalo);\n",
        "                finalizarJogo();\n",
        "            }\n",
        "        }, 1000);\n",
        "    }\n",
        "\n",
        "    function finalizarJogo() {\n",
        "        jogoEmAndamento = false;\n",
        "        botaoClique.disabled = true;\n",
        "        botaoClique.textContent = \"Tempo Esgotado\";\n",
        "        botaoIniciar.disabled = false;\n",
        "        contadorTexto.textContent = `Você fez ${contador} cliques em 10 segundos!`;\n",
        "    }\n",
        "\n",
        "    botaoClique.addEventListener(\"click\", () => {\n",
        "        if (jogoEmAndamento) {\n",
        "            contador++;\n",
        "            contadorTexto.textContent = `${contador} Cliques`;\n",
        "        }\n",
        "    });\n",
        "\n",
        "    botaoIniciar.addEventListener(\"click\", iniciarJogo);\n",
        "</script>\n",
        "```\n",
        "###Funcionalidades\n",
        "####1. Contagem de Cliques\n",
        "O usuário clica em um botão para contabilizar cliques.\n",
        "A contagem é exibida em tempo real.\n",
        "####2. Temporizador de 10 Segundos\n",
        "O jogo dura 10 segundos. Após esse tempo, o botão de clique é desativado.\n",
        "O temporizador é gerenciado por setInterval().\n",
        "####3. Exibição do Resultado\n",
        "Ao fim dos 10 segundos, o total de cliques é exibido na tela.\n",
        "Como Usar\n",
        "Iniciar o Jogo: O usuário clica no botão \"Iniciar\" para começar o jogo.\n",
        "Contar Cliques: Após iniciar, o usuário deve clicar no botão de clique o máximo de vezes possível dentro do tempo limite.\n",
        "Ver o Resultado: Após 10 segundos, o resultado é exibido automaticamente.\n",
        "Fluxo da Aplicação\n",
        "O usuário inicia o jogo clicando no botão \"Iniciar\".\n",
        "O botão de clique é habilitado e o temporizador de 10 segundos começa.\n",
        "Durante esse tempo, cada clique é contabilizado e o contador é atualizado em tempo real.\n",
        "Quando o tempo acaba, o botão é desativado, e o número total de cliques é exibido.\n",
        "O usuário pode reiniciar o jogo clicando novamente em \"Iniciar\".\n",
        "Considerações Finais\n",
        "Esta aplicação é simples e eficiente para demonstrar conceitos básicos de HTML, CSS e JavaScript, como manipulação do DOM, eventos, temporizadores e manipulação de estilos. Ela pode ser expandida com novas funcionalidades, como níveis de dificuldade ou uma interface de usuário mais elaborada.\n",
        "\n",
        "####Melhoria Potencial\n",
        "Adicionar efeitos visuais ou animações ao clicar no botão.\n",
        "Adicionar um placar ou armazenamento do maior número de cliques.\n",
        "Personalizar o temporizador, permitindo que o usuário escolha diferentes tempos de desafio."
      ],
      "metadata": {
        "id": "1tA1Akta4pyN"
      }
    },
    {
      "cell_type": "markdown",
      "source": [
        "#4.1 Reflexão Sobre o Uso do Chat GPT"
      ],
      "metadata": {
        "id": "roY1lIqT7Cka"
      }
    },
    {
      "cell_type": "markdown",
      "source": [
        "Bom, pra falar a verdade eu gostei muitop dessa atividade, eu duvidava que iria aprender algo novo aqui, mas naquele tópico de strings eu realmente fiquei interessado, sem contar o meu contador de clicks (meu recorde foi 63, duvido passar), que é algo divertido e casual (se implementasse umas funções a mais ficaria top).\n",
        "\n",
        "Sendo sincero, não encontrei muitos desafios por hora, ja tenho alguma familiaridade com o chat, uso frequentemente, talvez a maior raiva que passei foi com esses comandos/atalhos do colab, que ficou criando uns campos aleatórios, mas fora isso gostei da experiência, e de relembrar alguns conceitos básicos do python, é impressionante que quando se trata de coisas básicas, se as instruções forem bem formadas, o chat dá aulas literalmentw.\n",
        "\n",
        "Portanto, essa dinâmica foi boa para relembrar alguns conceitos e pegar alguma familiaridade com o colab, mas a melhor coisa de hoje com certeza foi o meu contador de clicks.😶\n",
        "\n",
        "link da minha conversa com o chat:\n",
        "https://chatgpt.com/share/874bfe4c-a721-4089-835a-2380d7f6ac84\n"
      ],
      "metadata": {
        "id": "3q0WUi8u7JUL"
      }
    }
  ]
}